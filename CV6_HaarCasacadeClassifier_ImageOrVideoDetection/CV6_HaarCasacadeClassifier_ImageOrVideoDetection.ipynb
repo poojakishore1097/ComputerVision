{
 "cells": [
  {
   "cell_type": "markdown",
   "id": "8c52d938",
   "metadata": {},
   "source": [
    "# COMPUTER VISION \n",
    "**Lab-6 Assignment**"
   ]
  },
  {
   "cell_type": "markdown",
   "id": "21d821ca",
   "metadata": {},
   "source": [
    "**Name : Pooja Kishore**  \n",
    "**Roll No. : AA.SC.P2MCA2107479**"
   ]
  },
  {
   "cell_type": "markdown",
   "id": "1e315365",
   "metadata": {},
   "source": [
    "#### Implement Haar Cascade Classifier to detect vehicle in image and video. Use any images or videos of your choice. "
   ]
  },
  {
   "cell_type": "code",
   "execution_count": 60,
   "id": "85549d3e",
   "metadata": {},
   "outputs": [],
   "source": [
    "import cv2\n",
    "import matplotlib.pyplot as plt\n",
    "import numpy as np"
   ]
  },
  {
   "cell_type": "code",
   "execution_count": 68,
   "id": "8429dab9",
   "metadata": {},
   "outputs": [],
   "source": [
    "cascade_src ='C:\\\\Users\\\\user\\\\Desktop\\\\xml\\\\cars.xml'\n",
    "video_src ='C:\\\\Users\\\\user\\\\Desktop\\\\xml\\\\dataset_video2.mp4'"
   ]
  },
  {
   "cell_type": "code",
   "execution_count": 69,
   "id": "d6d57389",
   "metadata": {},
   "outputs": [],
   "source": [
    "cap = cv2.VideoCapture(video_src)\n",
    "bus_cascade = cv2.CascadeClassifier(cascade_src)"
   ]
  },
  {
   "cell_type": "code",
   "execution_count": 70,
   "id": "bc6e9845",
   "metadata": {},
   "outputs": [],
   "source": [
    "while True:\n",
    "    ret, img = cap.read()\n",
    "    \n",
    "    if (type(img) == type(None)):\n",
    "        break\n",
    "    \n",
    "    gray = cv2.cvtColor(img, cv2.COLOR_BGR2GRAY)\n",
    "    \n",
    "    buses = bus_cascade.detectMultiScale(gray, 1.16, 1)\n",
    "\n",
    "    for (x,y,w,h) in buses:\n",
    "        cv2.rectangle(img,(x,y),(x+w,y+h),(0,0,255),2)      \n",
    "    \n",
    "    cv2.imshow('video', img)\n",
    "    \n",
    "    if cv2.waitKey(33) == 27:\n",
    "        break\n",
    "cv2.destroyAllWindows()\n"
   ]
  },
  {
   "cell_type": "code",
   "execution_count": null,
   "id": "805e0d72",
   "metadata": {},
   "outputs": [],
   "source": []
  }
 ],
 "metadata": {
  "kernelspec": {
   "display_name": "Python 3 (ipykernel)",
   "language": "python",
   "name": "python3"
  },
  "language_info": {
   "codemirror_mode": {
    "name": "ipython",
    "version": 3
   },
   "file_extension": ".py",
   "mimetype": "text/x-python",
   "name": "python",
   "nbconvert_exporter": "python",
   "pygments_lexer": "ipython3",
   "version": "3.9.12"
  }
 },
 "nbformat": 4,
 "nbformat_minor": 5
}
